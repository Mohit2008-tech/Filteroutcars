{
 "cells": [
  {
   "cell_type": "code",
   "execution_count": 1,
   "id": "broad-reservoir",
   "metadata": {},
   "outputs": [],
   "source": [
    "# Basic Modules of Data Analysis"
   ]
  },
  {
   "cell_type": "code",
   "execution_count": 2,
   "id": "biblical-marketplace",
   "metadata": {},
   "outputs": [],
   "source": [
    "import pandas as pd\n",
    "from pandas import DataFrame\n",
    "import numpy as np"
   ]
  },
  {
   "cell_type": "code",
   "execution_count": 3,
   "id": "bronze-quarterly",
   "metadata": {},
   "outputs": [],
   "source": [
    "# ipywidget module is for \n",
    "# Buttons , Sliders , Dropbox "
   ]
  },
  {
   "cell_type": "code",
   "execution_count": 4,
   "id": "twelve-trace",
   "metadata": {},
   "outputs": [],
   "source": [
    "import warnings\n",
    "warnings.filterwarnings('ignore')\n",
    "\n",
    "import ipywidgets as widgets\n",
    "from IPython.display import display, clear_output"
   ]
  },
  {
   "cell_type": "code",
   "execution_count": 5,
   "id": "elect-collaboration",
   "metadata": {},
   "outputs": [],
   "source": [
    "# If your code doesn't show a voila button on your pc then run below lines to install nbextention, voila "
   ]
  },
  {
   "cell_type": "code",
   "execution_count": 6,
   "id": "twenty-vegetation",
   "metadata": {},
   "outputs": [],
   "source": [
    "#!jupyter nbextention enable --py widgetsnbextension --sys-prefix\n",
    "#!jupyter serverextension enable voila --sys-prefix"
   ]
  },
  {
   "cell_type": "code",
   "execution_count": 7,
   "id": "unusual-escape",
   "metadata": {},
   "outputs": [],
   "source": [
    "#Reading Files"
   ]
  },
  {
   "cell_type": "code",
   "execution_count": 8,
   "id": "applicable-frontier",
   "metadata": {},
   "outputs": [],
   "source": [
    "data_1=pd.read_csv('cars_engage_2022.csv')"
   ]
  },
  {
   "cell_type": "markdown",
   "id": "solar-trade",
   "metadata": {},
   "source": [
    "#                                              Get Your Best Car "
   ]
  },
  {
   "cell_type": "code",
   "execution_count": 9,
   "id": "fifth-ethnic",
   "metadata": {},
   "outputs": [],
   "source": [
    "img1=open('car_10.jpg','rb').read()\n",
    "img2=open('Thank.jpg','rb').read()"
   ]
  },
  {
   "cell_type": "code",
   "execution_count": 10,
   "id": "extended-guarantee",
   "metadata": {},
   "outputs": [],
   "source": [
    "wi1 = widgets.Image(value=img1, format='jpg', width=1000, height=300)\n",
    "wi2 = widgets.Image(value=img2, format='jpg', width=1000, height=300)"
   ]
  },
  {
   "cell_type": "code",
   "execution_count": 11,
   "id": "personal-company",
   "metadata": {},
   "outputs": [
    {
     "data": {
      "application/vnd.jupyter.widget-view+json": {
       "model_id": "e0dbe4cf65a14c52a087cb086dd87fce",
       "version_major": 2,
       "version_minor": 0
      },
      "text/plain": [
       "Image(value=b'\\xff\\xd8\\xff\\xe0\\x00\\x10JFIF\\x00\\x01\\x01\\x01\\x00H\\x00H\\x00\\x00\\xff\\xe2\\x02\\x1cICC_PROFILE\\x00\\x0…"
      ]
     },
     "metadata": {},
     "output_type": "display_data"
    }
   ],
   "source": [
    "display(wi1)"
   ]
  },
  {
   "cell_type": "code",
   "execution_count": 12,
   "id": "common-blame",
   "metadata": {},
   "outputs": [],
   "source": [
    "cars_data=DataFrame(data_1,columns=['Model No'\n",
    "                                    ,'Make'\n",
    "                                    ,'Model'\n",
    "                                    ,'Ex_Showroom_Price'\n",
    "                                    ,'Sale_per_year'\n",
    "                                    ,'Model_year'\n",
    "                                    ,'Fuel_Type'\n",
    "                                    ,'Seating_Capacity'\n",
    "                                    ,'Speedometer',])"
   ]
  },
  {
   "cell_type": "code",
   "execution_count": 13,
   "id": "presidential-semester",
   "metadata": {},
   "outputs": [],
   "source": [
    "# Extracting some basics information from file\n",
    "# like unique models , max car price , min car price \n",
    "# seating capacities in the car ..etc.."
   ]
  },
  {
   "cell_type": "code",
   "execution_count": 14,
   "id": "subject-andrews",
   "metadata": {},
   "outputs": [],
   "source": [
    "seat_capacity_tuple=cars_data.Seating_Capacity.unique()\n",
    "seat_capacity_list=list(seat_capacity_tuple)\n",
    "seat_capacity=seat_capacity_list\n",
    "fuel_type_tuple=cars_data.Fuel_Type.unique()\n",
    "fuel_capacity_list=list(fuel_type_tuple)\n",
    "fuel_type=fuel_capacity_list\n",
    "Min_budget=cars_data.Ex_Showroom_Price.min()\n",
    "Max_budget=cars_data.Ex_Showroom_Price.max()\n",
    "budget=(Min_budget,Max_budget,100000)"
   ]
  },
  {
   "cell_type": "code",
   "execution_count": 15,
   "id": "increased-revolution",
   "metadata": {},
   "outputs": [],
   "source": [
    "make_tuple=cars_data.Make.unique()\n",
    "make_list=list(make_tuple)\n",
    "make_list.append('Any')\n",
    "make_choice=make_list"
   ]
  },
  {
   "cell_type": "code",
   "execution_count": 16,
   "id": "derived-iraqi",
   "metadata": {},
   "outputs": [],
   "source": [
    "aux_com=['Yes', 'No']\n",
    "model_year=['2016','2017','2018','2019','2020','2021']\n",
    "speedometer=['Analog','Digital','Any']\n",
    "fluctuation=100000"
   ]
  },
  {
   "cell_type": "markdown",
   "id": "precious-senegal",
   "metadata": {},
   "source": [
    "# Use the below filter buttons to pick your best Car"
   ]
  },
  {
   "cell_type": "code",
   "execution_count": 17,
   "id": "broadband-dimension",
   "metadata": {},
   "outputs": [],
   "source": [
    "def filter(Budget=2000000,Make_Choice='Any',Seat_Capacity='4',Model_Year='2017',Fuel_Type='Any',Speedometer='Analog'):\n",
    "    list_1=pd.DataFrame({\n",
    "            \"Model No\" :[]\n",
    "            ,\"Make\" :[]\n",
    "            ,\"Model\" :[]\n",
    "            ,\"Ex_Showroom_Price\" :[]\n",
    "            ,\"Sale_per_year\" :[]\n",
    "            ,\"Model_year\" :[]\n",
    "            ,\"Fuel_Type\" :[]\n",
    "            ,\"Seating_Capacity\" :[]\n",
    "            ,\"Speedometer\" :[]\n",
    "        })\n",
    "    Make_Choice=list(Make_Choice)\n",
    "    if(Make_Choice[0]!='Any'):\n",
    "        for make in Make_Choice:\n",
    "            Cars=cars_data[cars_data['Make']==make]\n",
    "            list_1=np.append(arr=list_1,values=Cars,axis=0)\n",
    "        list_1=pd.DataFrame(list_1)\n",
    "        list_1.columns=[\"Model No\" \n",
    "                ,\"Make\" \n",
    "                ,\"Model\"\n",
    "                ,\"Ex_Showroom_Price\" \n",
    "                ,\"Sale_per_year\" \n",
    "                ,\"Model_year\"\n",
    "                ,\"Fuel_Type\" \n",
    "                ,\"Seating_Capacity\" \n",
    "                ,\"Speedometer\" ]\n",
    "    else :\n",
    "        list_1=cars_data\n",
    "    list_1=list_1[list_1['Ex_Showroom_Price']<int(Budget)+fluctuation]\n",
    "    list_1=list_1[list_1['Seating_Capacity']>=int(Seat_Capacity)]\n",
    "    list_1 =list_1[list_1['Model_year']>=int(Model_Year)]\n",
    "    list_1= list_1[list_1['Fuel_Type']==Fuel_Type]\n",
    "    if(Speedometer!='Any'):\n",
    "        list_1=list_1[list_1['Speedometer']==Speedometer]    \n",
    "    list_1=list_1.sort_values(['Sale_per_year'],ascending =False)\n",
    "    display(list_1)"
   ]
  },
  {
   "cell_type": "code",
   "execution_count": 18,
   "id": "beautiful-skiing",
   "metadata": {},
   "outputs": [
    {
     "data": {
      "application/vnd.jupyter.widget-view+json": {
       "model_id": "73e12dba9966466b8e3f39c9e83099a2",
       "version_major": 2,
       "version_minor": 0
      },
      "text/plain": [
       "interactive(children=(IntSlider(value=2000000, description='Budget', max=9999725, min=1007070, step=100000), S…"
      ]
     },
     "metadata": {},
     "output_type": "display_data"
    },
    {
     "data": {
      "text/plain": [
       "<function __main__.filter(Budget=2000000, Make_Choice='Any', Seat_Capacity='4', Model_Year='2017', Fuel_Type='Any', Speedometer='Analog')>"
      ]
     },
     "execution_count": 18,
     "metadata": {},
     "output_type": "execute_result"
    }
   ],
   "source": [
    "widgets.interact(filter\n",
    "                 ,Budget=budget\n",
    "                 ,Make_Choice =widgets.SelectMultiple( value=['Any']\n",
    "                                                      ,options=make_choice\n",
    "                                                      ,description='Companies')\n",
    "                 ,Seat_Capacity=seat_capacity\n",
    "                 ,Model_Year=model_year\n",
    "                 ,Fuel_Type=fuel_type\n",
    "                 ,Speedometer=speedometer\n",
    "                )"
   ]
  },
  {
   "cell_type": "markdown",
   "id": "loose-tobacco",
   "metadata": {},
   "source": [
    "# Upload your Data File ( File Should be in demo format )"
   ]
  },
  {
   "cell_type": "code",
   "execution_count": 20,
   "id": "popular-venezuela",
   "metadata": {},
   "outputs": [],
   "source": [
    "# Fluctuation in budget "
   ]
  },
  {
   "cell_type": "code",
   "execution_count": 21,
   "id": "automated-alfred",
   "metadata": {},
   "outputs": [],
   "source": [
    "fluctuation=100000"
   ]
  },
  {
   "cell_type": "code",
   "execution_count": 22,
   "id": "searching-greeting",
   "metadata": {},
   "outputs": [],
   "source": [
    "def filter_2(Budget=2000000,Make_Choice='Any',Seat_Capacity='4',Model_Year='2017',Fuel_Type='Any',Speedometer='Analog'):\n",
    "        global car_data\n",
    "        list_1=pd.DataFrame({\n",
    "                \"Model No\" :[]\n",
    "                ,\"Make\" :[]\n",
    "                ,\"Model\" :[]\n",
    "                ,\"Ex_Showroom_Price\" :[]\n",
    "                ,\"Sale_per_year\" :[]\n",
    "                ,\"Model_year\" :[]\n",
    "                ,\"Fuel_Type\" :[]\n",
    "                ,\"Seating_Capacity\" :[]\n",
    "                ,\"Speedometer\" :[]\n",
    "            })\n",
    "        Make_Choice=list(Make_Choice)\n",
    "        display(Make_Choice)\n",
    "        if(Make_Choice[0]!='Any'):\n",
    "            for make in Make_Choice:\n",
    "                Cars=car_data[cars_data['Make']==make]\n",
    "                list_1=np.append(arr=list_1,values=Cars,axis=0)\n",
    "            list_1=pd.DataFrame(list_1)\n",
    "            list_1.columns=[\"Model No\" \n",
    "                    ,\"Make\" \n",
    "                    ,\"Model\"\n",
    "                    ,\"Ex_Showroom_Price\" \n",
    "                    ,\"Sale_per_year\" \n",
    "                    ,\"Model_year\"\n",
    "                    ,\"Fuel_Type\" \n",
    "                    ,\"Seating_Capacity\" \n",
    "                    ,\"Speedometer\" ]\n",
    "        else :\n",
    "            list_1=car_data\n",
    "        list_1=list_1[list_1['Ex_Showroom_Price']<int(Budget)+fluctuation]\n",
    "        list_1=list_1[list_1['Seating_Capacity']>=int(Seat_Capacity)]\n",
    "        list_1 =list_1[list_1['Model_year']>=int(Model_Year)]\n",
    "        list_1= list_1[list_1['Fuel_Type']==Fuel_Type]\n",
    "        if(Speedometer!='Any'):\n",
    "            list_1=list_1[list_1['Speedometer']==Speedometer]    \n",
    "        list_1=list_1.sort_values(['Sale_per_year'],ascending =False)\n",
    "        display(list_1)"
   ]
  },
  {
   "cell_type": "code",
   "execution_count": 23,
   "id": "joined-challenge",
   "metadata": {},
   "outputs": [],
   "source": [
    "def apply_filter(Unique_Cars,budget,seat_capacity):\n",
    "    \n",
    "        widgets.interact(filter_2\n",
    "                     ,Budget=budget\n",
    "                     ,Make_Choice =widgets.SelectMultiple( value=['Any']\n",
    "                                                          ,options=Unique_Cars\n",
    "                                                          ,description='Companies')\n",
    "                     ,Seat_Capacity=seat_capacity\n",
    "                     ,Model_Year=model_year\n",
    "                     ,Fuel_Type=fuel_type\n",
    "                     ,Speedometer=speedometer)"
   ]
  },
  {
   "cell_type": "code",
   "execution_count": 24,
   "id": "earlier-walter",
   "metadata": {},
   "outputs": [],
   "source": [
    "def convert_file(Uploader):\n",
    "    try:\n",
    "        input_file=list(Uploader.values())[0]\n",
    "    except:\n",
    "        return \n",
    "    content=input_file['content']\n",
    "    content=io.StringIO(content.decode('utf-8'))\n",
    "    global car_data\n",
    "    car_data=pd.read_csv(content)\n",
    "    unique_cars=car_data.Make.unique()\n",
    "    unique_cars=list(unique_cars)\n",
    "    unique_cars.append('Any')\n",
    "    display(car_data)\n",
    "    seat_capacity_tuple=car_data.Seating_Capacity.unique()\n",
    "    seat_capacity_list=list(seat_capacity_tuple)\n",
    "    seat_capacity=seat_capacity_list\n",
    "    fuel_type_tuple=car_data.Fuel_Type.unique()\n",
    "    fuel_capacity_list=list(fuel_type_tuple)\n",
    "    fuel_type=fuel_capacity_list\n",
    "    Min_budget=car_data.Ex_Showroom_Price.min()\n",
    "    Max_budget=car_data.Ex_Showroom_Price.max()\n",
    "    budget=(Min_budget,Max_budget,100000)\n",
    "    apply_filter(unique_cars,budget,seat_capacity)"
   ]
  },
  {
   "cell_type": "code",
   "execution_count": 25,
   "id": "thousand-vehicle",
   "metadata": {},
   "outputs": [
    {
     "data": {
      "application/vnd.jupyter.widget-view+json": {
       "model_id": "d622b36957cf46f78c55f80f7f61c588",
       "version_major": 2,
       "version_minor": 0
      },
      "text/plain": [
       "interactive(children=(FileUpload(value={}, accept='.csv', description='Upload'), Output()), _dom_classes=('wid…"
      ]
     },
     "metadata": {},
     "output_type": "display_data"
    },
    {
     "data": {
      "text/plain": [
       "<function __main__.convert_file(Uploader)>"
      ]
     },
     "execution_count": 25,
     "metadata": {},
     "output_type": "execute_result"
    }
   ],
   "source": [
    "uploader=widgets.FileUpload( accept='.csv', multiple=False )\n",
    "widgets.interact(convert_file,Uploader=uploader)"
   ]
  },
  {
   "cell_type": "code",
   "execution_count": 26,
   "id": "flexible-excerpt",
   "metadata": {},
   "outputs": [
    {
     "data": {
      "application/vnd.jupyter.widget-view+json": {
       "model_id": "a12133021403475a8e15f2ece6222f4b",
       "version_major": 2,
       "version_minor": 0
      },
      "text/plain": [
       "Image(value=b'\\xff\\xd8\\xff\\xe0\\x00\\x10JFIF\\x00\\x01\\x01\\x01\\x00H\\x00H\\x00\\x00\\xff\\xe2\\x02\\x1cICC_PROFILE\\x00\\x0…"
      ]
     },
     "metadata": {},
     "output_type": "display_data"
    }
   ],
   "source": [
    "display(wi2)"
   ]
  },
  {
   "cell_type": "code",
   "execution_count": 28,
   "id": "alleged-simulation",
   "metadata": {},
   "outputs": [],
   "source": []
  },
  {
   "cell_type": "code",
   "execution_count": null,
   "id": "reasonable-spencer",
   "metadata": {},
   "outputs": [],
   "source": []
  }
 ],
 "metadata": {
  "kernelspec": {
   "display_name": "Python 3",
   "language": "python",
   "name": "python3"
  },
  "language_info": {
   "codemirror_mode": {
    "name": "ipython",
    "version": 3
   },
   "file_extension": ".py",
   "mimetype": "text/x-python",
   "name": "python",
   "nbconvert_exporter": "python",
   "pygments_lexer": "ipython3",
   "version": "3.9.7"
  },
  "varInspector": {
   "cols": {
    "lenName": 16,
    "lenType": 16,
    "lenVar": 40
   },
   "kernels_config": {
    "python": {
     "delete_cmd_postfix": "",
     "delete_cmd_prefix": "del ",
     "library": "var_list.py",
     "varRefreshCmd": "print(var_dic_list())"
    },
    "r": {
     "delete_cmd_postfix": ") ",
     "delete_cmd_prefix": "rm(",
     "library": "var_list.r",
     "varRefreshCmd": "cat(var_dic_list()) "
    }
   },
   "types_to_exclude": [
    "module",
    "function",
    "builtin_function_or_method",
    "instance",
    "_Feature"
   ],
   "window_display": false
  }
 },
 "nbformat": 4,
 "nbformat_minor": 5
}
